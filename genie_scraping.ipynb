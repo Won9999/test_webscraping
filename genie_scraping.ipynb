{
 "cells": [
  {
   "cell_type": "code",
   "execution_count": 6,
   "id": "53154532",
   "metadata": {},
   "outputs": [],
   "source": [
    "from selenium import webdriver"
   ]
  },
  {
   "cell_type": "code",
   "execution_count": 7,
   "id": "ff905c7a",
   "metadata": {},
   "outputs": [],
   "source": [
    "browser = webdriver.Chrome('./chromedriver.exe')"
   ]
  },
  {
   "cell_type": "code",
   "execution_count": 8,
   "id": "0541e370",
   "metadata": {},
   "outputs": [],
   "source": [
    "browser.get('https://www.genie.co.kr/chart/top200')"
   ]
  },
  {
   "cell_type": "code",
   "execution_count": 9,
   "id": "374ffd85",
   "metadata": {},
   "outputs": [],
   "source": [
    "html = browser.page_source"
   ]
  },
  {
   "cell_type": "code",
   "execution_count": 10,
   "id": "71f2e315",
   "metadata": {},
   "outputs": [],
   "source": [
    "from bs4 import BeautifulSoup"
   ]
  },
  {
   "cell_type": "code",
   "execution_count": 16,
   "id": "2a3157dc",
   "metadata": {},
   "outputs": [],
   "source": [
    "soup = BeautifulSoup(html, 'html.parser')"
   ]
  },
  {
   "cell_type": "code",
   "execution_count": 18,
   "id": "8b76ca5b",
   "metadata": {},
   "outputs": [
    {
     "data": {
      "text/plain": [
       "(1, bs4.BeautifulSoup)"
      ]
     },
     "execution_count": 18,
     "metadata": {},
     "output_type": "execute_result"
    }
   ],
   "source": [
    "len(soup), type(soup)"
   ]
  },
  {
   "cell_type": "code",
   "execution_count": 20,
   "id": "58c2faaa",
   "metadata": {},
   "outputs": [],
   "source": [
    "tags = soup.select('td.info')"
   ]
  },
  {
   "cell_type": "code",
   "execution_count": 22,
   "id": "700962fd",
   "metadata": {},
   "outputs": [
    {
     "data": {
      "text/plain": [
       "(50, bs4.element.ResultSet)"
      ]
     },
     "execution_count": 22,
     "metadata": {},
     "output_type": "execute_result"
    }
   ],
   "source": [
    "len(tags), type(tags)"
   ]
  },
  {
   "cell_type": "code",
   "execution_count": 23,
   "id": "ad504184",
   "metadata": {},
   "outputs": [
    {
     "data": {
      "text/plain": [
       "<td class=\"info\">\n",
       "<a class=\"title ellipsis\" href=\"#\" onclick=\"fnPlaySong('93599531','1');return false;\" title=\"재생\">\n",
       "                                        \n",
       "                                            \n",
       "                                        \n",
       "                                        \n",
       "                                        \n",
       "                                        \n",
       "                                            \n",
       "                                                하루만 더</a>\n",
       "<a class=\"artist ellipsis\" href=\"#\" onclick=\"fnViewArtist('14957679');return false;\">빅마마 (Big Mama)</a>\n",
       "<div class=\"toggle-button-box\">\n",
       "<button class=\"btn artist-etc\" onclick=\"fnRelationArtistList('93599531');\" type=\"button\">외</button>\n",
       "<ul class=\"list\" id=\"RelationArtist_93599531\"></ul>\n",
       "</div>\n",
       "<i class=\"bar\">|</i>\n",
       "<a class=\"albumtitle ellipsis\" href=\"#\" onclick=\"fnViewAlbumLayer('82105644');return false;\">하루만 더</a>\n",
       "</td>"
      ]
     },
     "execution_count": 23,
     "metadata": {},
     "output_type": "execute_result"
    }
   ],
   "source": [
    "tag = tags[0]\n",
    "tag"
   ]
  },
  {
   "cell_type": "code",
   "execution_count": 27,
   "id": "31347565",
   "metadata": {},
   "outputs": [],
   "source": [
    "title = tag.select('a.title')"
   ]
  },
  {
   "cell_type": "code",
   "execution_count": 29,
   "id": "daae208c",
   "metadata": {},
   "outputs": [
    {
     "data": {
      "text/plain": [
       "<a class=\"title ellipsis\" href=\"#\" onclick=\"fnPlaySong('93599531','1');return false;\" title=\"재생\">\n",
       "                                        \n",
       "                                            \n",
       "                                        \n",
       "                                        \n",
       "                                        \n",
       "                                        \n",
       "                                            \n",
       "                                                하루만 더</a>"
      ]
     },
     "execution_count": 29,
     "metadata": {},
     "output_type": "execute_result"
    }
   ],
   "source": [
    "title[0]"
   ]
  },
  {
   "cell_type": "code",
   "execution_count": 31,
   "id": "daf42608",
   "metadata": {},
   "outputs": [
    {
     "data": {
      "text/plain": [
       "'하루만 더'"
      ]
     },
     "execution_count": 31,
     "metadata": {},
     "output_type": "execute_result"
    }
   ],
   "source": [
    "title[0].text.strip()"
   ]
  },
  {
   "cell_type": "code",
   "execution_count": 32,
   "id": "81730029",
   "metadata": {},
   "outputs": [],
   "source": [
    "artist = tag.select('a.artist')"
   ]
  },
  {
   "cell_type": "code",
   "execution_count": 33,
   "id": "590db61f",
   "metadata": {},
   "outputs": [
    {
     "data": {
      "text/plain": [
       "<a class=\"artist ellipsis\" href=\"#\" onclick=\"fnViewArtist('14957679');return false;\">빅마마 (Big Mama)</a>"
      ]
     },
     "execution_count": 33,
     "metadata": {},
     "output_type": "execute_result"
    }
   ],
   "source": [
    "artist[0]"
   ]
  },
  {
   "cell_type": "code",
   "execution_count": 34,
   "id": "0370c5cf",
   "metadata": {},
   "outputs": [
    {
     "data": {
      "text/plain": [
       "'빅마마 (Big Mama)'"
      ]
     },
     "execution_count": 34,
     "metadata": {},
     "output_type": "execute_result"
    }
   ],
   "source": [
    "artist[0].text.strip()"
   ]
  },
  {
   "cell_type": "code",
   "execution_count": 41,
   "id": "7aa50030",
   "metadata": {},
   "outputs": [
    {
     "data": {
      "text/plain": [
       "[['하루만 더', '빅마마 (Big Mama)'],\n",
       " ['치맛바람 (Chi Mat Ba Ram)', '브레이브걸스 (Brave girls)'],\n",
       " ['Butter', '방탄소년단'],\n",
       " ['Next Level', 'aespa'],\n",
       " ['Alcohol-Free', 'TWICE (트와이스)'],\n",
       " ['비와 당신', '이무진'],\n",
       " ['헤픈 우연', '헤이즈 (Heize)'],\n",
       " ['Dun Dun Dance', '오마이걸 (OH MY GIRL)'],\n",
       " ['추적이는 여름 비가 되어', '장범준'],\n",
       " [\"롤린 (Rollin')\", '브레이브걸스 (Brave girls)'],\n",
       " ['안녕 (Hello)', '조이 (JOY)'],\n",
       " ['Peaches (Feat. Daniel Caesar & Giveon)', 'Justin Bieber'],\n",
       " ['라일락', '아이유 (IU)'],\n",
       " ['Dynamite', '방탄소년단'],\n",
       " ['운전만해 (We Ride)', '브레이브걸스 (Brave girls)'],\n",
       " ['Ready to love', '세븐틴 (SEVENTEEN)'],\n",
       " ['ASAP', 'STAYC (스테이씨)'],\n",
       " ['신호등', '이무진'],\n",
       " ['상상더하기', 'MSG워너비 TOP 8 (별루지 & 김정수 & 강창모 & 정기석 & 이동휘 & 이상이 & 박재정 & 원슈타인)'],\n",
       " ['Celebrity', '아이유 (IU)'],\n",
       " ['상상더하기', '라붐 (LABOUM)'],\n",
       " ['이제 나만 믿어요', '임영웅'],\n",
       " ['Timeless', 'SG워너비'],\n",
       " ['Savage Love (Laxed - Siren Beat) (BTS Remix)',\n",
       "  'Jawsh 685 & Jason Derulo & 방탄소년단'],\n",
       " ['다정히 내 이름을 부르면', '경서예지 & 전건호'],\n",
       " ['별빛 같은 나의 사랑아', '임영웅'],\n",
       " ['HERO', '임영웅'],\n",
       " ['어떤 말도 할 수가 없는 나인데', '케이시 (Kassy)'],\n",
       " ['작은 것들을 위한 시 (Boy With Luv) (Feat. Halsey)', '방탄소년단'],\n",
       " ['허리춤', '오반 (OVAN)'],\n",
       " ['다시 사랑한다면 (김필 Ver.)', '임영웅'],\n",
       " ['내 손을 잡아', '아이유 (IU)'],\n",
       " ['사이렌 Remix (Feat. UNEDUCATED KID & Paul Blanco)', '호미들'],\n",
       " ['At My Worst', 'Pink Sweat$'],\n",
       " ['봄날', '방탄소년단'],\n",
       " ['잊어야 한다는 마음으로', '임영웅'],\n",
       " ['계단말고 엘리베이터', '임영웅'],\n",
       " ['Anyone', '세븐틴 (SEVENTEEN)'],\n",
       " ['미워요', '임영웅'],\n",
       " ['Life Goes On', '방탄소년단'],\n",
       " ['LOVE DAY (2021) (바른연애 길잡이 X 양요섭, 정은지)', '양요섭 & 정은지'],\n",
       " [\"Heaven's Cloud\", '세븐틴 (SEVENTEEN)'],\n",
       " ['Coin', '아이유 (IU)'],\n",
       " ['흔들리는 꽃들 속에서 네 샴푸향이 느껴진거야', '장범준'],\n",
       " ['소나기', '임영웅'],\n",
       " ['마.피.아. In the morning', 'ITZY (있지)'],\n",
       " ['2002', 'Anne-Marie'],\n",
       " ['Off My Face', 'Justin Bieber'],\n",
       " ['내 입술 따뜻한 커피처럼', '청하 & Colde (콜드)'],\n",
       " ['아주 NICE', '세븐틴 (SEVENTEEN)']]"
      ]
     },
     "execution_count": 41,
     "metadata": {},
     "output_type": "execute_result"
    }
   ],
   "source": [
    "contents = []\n",
    "for tag in tags:\n",
    "    title = tag.select('a.title')\n",
    "    artist = tag.select('a.artist')\n",
    "    #print(title[0].text.strip(), artist[0].text.strip())\n",
    "    song = [title[0].text.strip(), artist[0].text.strip()]\n",
    "    contents.append(song)\n",
    "contents"
   ]
  },
  {
   "cell_type": "code",
   "execution_count": 42,
   "id": "4582dd9b",
   "metadata": {},
   "outputs": [],
   "source": [
    "import pandas as pd"
   ]
  },
  {
   "cell_type": "code",
   "execution_count": 46,
   "id": "4b1706c6",
   "metadata": {},
   "outputs": [
    {
     "ename": "ValueError",
     "evalue": "Shape of passed values is (50, 2), indices imply (2, 2)",
     "output_type": "error",
     "traceback": [
      "\u001b[1;31m---------------------------------------------------------------------------\u001b[0m",
      "\u001b[1;31mValueError\u001b[0m                                Traceback (most recent call last)",
      "\u001b[1;32mc:\\users\\dnjsc\\appdata\\local\\programs\\python\\python36\\lib\\site-packages\\pandas\\core\\internals\\managers.py\u001b[0m in \u001b[0;36mcreate_block_manager_from_arrays\u001b[1;34m(arrays, names, axes)\u001b[0m\n\u001b[0;32m   1692\u001b[0m         \u001b[0mblocks\u001b[0m \u001b[1;33m=\u001b[0m \u001b[0mform_blocks\u001b[0m\u001b[1;33m(\u001b[0m\u001b[0marrays\u001b[0m\u001b[1;33m,\u001b[0m \u001b[0mnames\u001b[0m\u001b[1;33m,\u001b[0m \u001b[0maxes\u001b[0m\u001b[1;33m)\u001b[0m\u001b[1;33m\u001b[0m\u001b[0m\n\u001b[1;32m-> 1693\u001b[1;33m         \u001b[0mmgr\u001b[0m \u001b[1;33m=\u001b[0m \u001b[0mBlockManager\u001b[0m\u001b[1;33m(\u001b[0m\u001b[0mblocks\u001b[0m\u001b[1;33m,\u001b[0m \u001b[0maxes\u001b[0m\u001b[1;33m)\u001b[0m\u001b[1;33m\u001b[0m\u001b[0m\n\u001b[0m\u001b[0;32m   1694\u001b[0m         \u001b[0mmgr\u001b[0m\u001b[1;33m.\u001b[0m\u001b[0m_consolidate_inplace\u001b[0m\u001b[1;33m(\u001b[0m\u001b[1;33m)\u001b[0m\u001b[1;33m\u001b[0m\u001b[0m\n",
      "\u001b[1;32mc:\\users\\dnjsc\\appdata\\local\\programs\\python\\python36\\lib\\site-packages\\pandas\\core\\internals\\managers.py\u001b[0m in \u001b[0;36m__init__\u001b[1;34m(self, blocks, axes, do_integrity_check)\u001b[0m\n\u001b[0;32m    148\u001b[0m         \u001b[1;32mif\u001b[0m \u001b[0mdo_integrity_check\u001b[0m\u001b[1;33m:\u001b[0m\u001b[1;33m\u001b[0m\u001b[0m\n\u001b[1;32m--> 149\u001b[1;33m             \u001b[0mself\u001b[0m\u001b[1;33m.\u001b[0m\u001b[0m_verify_integrity\u001b[0m\u001b[1;33m(\u001b[0m\u001b[1;33m)\u001b[0m\u001b[1;33m\u001b[0m\u001b[0m\n\u001b[0m\u001b[0;32m    150\u001b[0m \u001b[1;33m\u001b[0m\u001b[0m\n",
      "\u001b[1;32mc:\\users\\dnjsc\\appdata\\local\\programs\\python\\python36\\lib\\site-packages\\pandas\\core\\internals\\managers.py\u001b[0m in \u001b[0;36m_verify_integrity\u001b[1;34m(self)\u001b[0m\n\u001b[0;32m    328\u001b[0m             \u001b[1;32mif\u001b[0m \u001b[0mblock\u001b[0m\u001b[1;33m.\u001b[0m\u001b[0mshape\u001b[0m\u001b[1;33m[\u001b[0m\u001b[1;36m1\u001b[0m\u001b[1;33m:\u001b[0m\u001b[1;33m]\u001b[0m \u001b[1;33m!=\u001b[0m \u001b[0mmgr_shape\u001b[0m\u001b[1;33m[\u001b[0m\u001b[1;36m1\u001b[0m\u001b[1;33m:\u001b[0m\u001b[1;33m]\u001b[0m\u001b[1;33m:\u001b[0m\u001b[1;33m\u001b[0m\u001b[0m\n\u001b[1;32m--> 329\u001b[1;33m                 \u001b[1;32mraise\u001b[0m \u001b[0mconstruction_error\u001b[0m\u001b[1;33m(\u001b[0m\u001b[0mtot_items\u001b[0m\u001b[1;33m,\u001b[0m \u001b[0mblock\u001b[0m\u001b[1;33m.\u001b[0m\u001b[0mshape\u001b[0m\u001b[1;33m[\u001b[0m\u001b[1;36m1\u001b[0m\u001b[1;33m:\u001b[0m\u001b[1;33m]\u001b[0m\u001b[1;33m,\u001b[0m \u001b[0mself\u001b[0m\u001b[1;33m.\u001b[0m\u001b[0maxes\u001b[0m\u001b[1;33m)\u001b[0m\u001b[1;33m\u001b[0m\u001b[0m\n\u001b[0m\u001b[0;32m    330\u001b[0m         \u001b[1;32mif\u001b[0m \u001b[0mlen\u001b[0m\u001b[1;33m(\u001b[0m\u001b[0mself\u001b[0m\u001b[1;33m.\u001b[0m\u001b[0mitems\u001b[0m\u001b[1;33m)\u001b[0m \u001b[1;33m!=\u001b[0m \u001b[0mtot_items\u001b[0m\u001b[1;33m:\u001b[0m\u001b[1;33m\u001b[0m\u001b[0m\n",
      "\u001b[1;31mValueError\u001b[0m: Shape of passed values is (50, 2), indices imply (2, 2)",
      "\nDuring handling of the above exception, another exception occurred:\n",
      "\u001b[1;31mValueError\u001b[0m                                Traceback (most recent call last)",
      "\u001b[1;32m<ipython-input-46-8373f3d77f0c>\u001b[0m in \u001b[0;36m<module>\u001b[1;34m\u001b[0m\n\u001b[1;32m----> 1\u001b[1;33m \u001b[0mpd_data\u001b[0m \u001b[1;33m=\u001b[0m \u001b[0mpd\u001b[0m\u001b[1;33m.\u001b[0m\u001b[0mDataFrame\u001b[0m\u001b[1;33m(\u001b[0m\u001b[0mcontents\u001b[0m\u001b[1;33m,\u001b[0m \u001b[0mcontents\u001b[0m\u001b[1;33m,\u001b[0m \u001b[0mcolumns\u001b[0m \u001b[1;33m=\u001b[0m \u001b[1;33m[\u001b[0m\u001b[1;34m'title'\u001b[0m\u001b[1;33m,\u001b[0m\u001b[1;34m'artist'\u001b[0m\u001b[1;33m]\u001b[0m\u001b[1;33m)\u001b[0m\u001b[1;33m\u001b[0m\u001b[0m\n\u001b[0m\u001b[0;32m      2\u001b[0m \u001b[0mpd_data\u001b[0m\u001b[1;33m\u001b[0m\u001b[0m\n",
      "\u001b[1;32mc:\\users\\dnjsc\\appdata\\local\\programs\\python\\python36\\lib\\site-packages\\pandas\\core\\frame.py\u001b[0m in \u001b[0;36m__init__\u001b[1;34m(self, data, index, columns, dtype, copy)\u001b[0m\n\u001b[0;32m    519\u001b[0m                             \u001b[0mindex\u001b[0m \u001b[1;33m=\u001b[0m \u001b[0mibase\u001b[0m\u001b[1;33m.\u001b[0m\u001b[0mdefault_index\u001b[0m\u001b[1;33m(\u001b[0m\u001b[0mlen\u001b[0m\u001b[1;33m(\u001b[0m\u001b[0mdata\u001b[0m\u001b[1;33m)\u001b[0m\u001b[1;33m)\u001b[0m\u001b[1;33m\u001b[0m\u001b[0m\n\u001b[0;32m    520\u001b[0m \u001b[1;33m\u001b[0m\u001b[0m\n\u001b[1;32m--> 521\u001b[1;33m                     \u001b[0mmgr\u001b[0m \u001b[1;33m=\u001b[0m \u001b[0marrays_to_mgr\u001b[0m\u001b[1;33m(\u001b[0m\u001b[0marrays\u001b[0m\u001b[1;33m,\u001b[0m \u001b[0mcolumns\u001b[0m\u001b[1;33m,\u001b[0m \u001b[0mindex\u001b[0m\u001b[1;33m,\u001b[0m \u001b[0mcolumns\u001b[0m\u001b[1;33m,\u001b[0m \u001b[0mdtype\u001b[0m\u001b[1;33m=\u001b[0m\u001b[0mdtype\u001b[0m\u001b[1;33m)\u001b[0m\u001b[1;33m\u001b[0m\u001b[0m\n\u001b[0m\u001b[0;32m    522\u001b[0m                 \u001b[1;32melse\u001b[0m\u001b[1;33m:\u001b[0m\u001b[1;33m\u001b[0m\u001b[0m\n\u001b[0;32m    523\u001b[0m                     \u001b[0mmgr\u001b[0m \u001b[1;33m=\u001b[0m \u001b[0minit_ndarray\u001b[0m\u001b[1;33m(\u001b[0m\u001b[0mdata\u001b[0m\u001b[1;33m,\u001b[0m \u001b[0mindex\u001b[0m\u001b[1;33m,\u001b[0m \u001b[0mcolumns\u001b[0m\u001b[1;33m,\u001b[0m \u001b[0mdtype\u001b[0m\u001b[1;33m=\u001b[0m\u001b[0mdtype\u001b[0m\u001b[1;33m,\u001b[0m \u001b[0mcopy\u001b[0m\u001b[1;33m=\u001b[0m\u001b[0mcopy\u001b[0m\u001b[1;33m)\u001b[0m\u001b[1;33m\u001b[0m\u001b[0m\n",
      "\u001b[1;32mc:\\users\\dnjsc\\appdata\\local\\programs\\python\\python36\\lib\\site-packages\\pandas\\core\\internals\\construction.py\u001b[0m in \u001b[0;36marrays_to_mgr\u001b[1;34m(arrays, arr_names, index, columns, dtype, verify_integrity)\u001b[0m\n\u001b[0;32m     91\u001b[0m     \u001b[0maxes\u001b[0m \u001b[1;33m=\u001b[0m \u001b[1;33m[\u001b[0m\u001b[0mcolumns\u001b[0m\u001b[1;33m,\u001b[0m \u001b[0mindex\u001b[0m\u001b[1;33m]\u001b[0m\u001b[1;33m\u001b[0m\u001b[0m\n\u001b[0;32m     92\u001b[0m \u001b[1;33m\u001b[0m\u001b[0m\n\u001b[1;32m---> 93\u001b[1;33m     \u001b[1;32mreturn\u001b[0m \u001b[0mcreate_block_manager_from_arrays\u001b[0m\u001b[1;33m(\u001b[0m\u001b[0marrays\u001b[0m\u001b[1;33m,\u001b[0m \u001b[0marr_names\u001b[0m\u001b[1;33m,\u001b[0m \u001b[0maxes\u001b[0m\u001b[1;33m)\u001b[0m\u001b[1;33m\u001b[0m\u001b[0m\n\u001b[0m\u001b[0;32m     94\u001b[0m \u001b[1;33m\u001b[0m\u001b[0m\n\u001b[0;32m     95\u001b[0m \u001b[1;33m\u001b[0m\u001b[0m\n",
      "\u001b[1;32mc:\\users\\dnjsc\\appdata\\local\\programs\\python\\python36\\lib\\site-packages\\pandas\\core\\internals\\managers.py\u001b[0m in \u001b[0;36mcreate_block_manager_from_arrays\u001b[1;34m(arrays, names, axes)\u001b[0m\n\u001b[0;32m   1695\u001b[0m         \u001b[1;32mreturn\u001b[0m \u001b[0mmgr\u001b[0m\u001b[1;33m\u001b[0m\u001b[0m\n\u001b[0;32m   1696\u001b[0m     \u001b[1;32mexcept\u001b[0m \u001b[0mValueError\u001b[0m \u001b[1;32mas\u001b[0m \u001b[0me\u001b[0m\u001b[1;33m:\u001b[0m\u001b[1;33m\u001b[0m\u001b[0m\n\u001b[1;32m-> 1697\u001b[1;33m         \u001b[1;32mraise\u001b[0m \u001b[0mconstruction_error\u001b[0m\u001b[1;33m(\u001b[0m\u001b[0mlen\u001b[0m\u001b[1;33m(\u001b[0m\u001b[0marrays\u001b[0m\u001b[1;33m)\u001b[0m\u001b[1;33m,\u001b[0m \u001b[0marrays\u001b[0m\u001b[1;33m[\u001b[0m\u001b[1;36m0\u001b[0m\u001b[1;33m]\u001b[0m\u001b[1;33m.\u001b[0m\u001b[0mshape\u001b[0m\u001b[1;33m,\u001b[0m \u001b[0maxes\u001b[0m\u001b[1;33m,\u001b[0m \u001b[0me\u001b[0m\u001b[1;33m)\u001b[0m\u001b[1;33m\u001b[0m\u001b[0m\n\u001b[0m\u001b[0;32m   1698\u001b[0m \u001b[1;33m\u001b[0m\u001b[0m\n\u001b[0;32m   1699\u001b[0m \u001b[1;33m\u001b[0m\u001b[0m\n",
      "\u001b[1;31mValueError\u001b[0m: Shape of passed values is (50, 2), indices imply (2, 2)"
     ]
    }
   ],
   "source": [
    "pd_data = pd.DataFrame(contents, contents, columns = ['title','artist'])\n",
    "pd_data"
   ]
  },
  {
   "cell_type": "code",
   "execution_count": 45,
   "id": "1f3774ae",
   "metadata": {},
   "outputs": [],
   "source": [
    "pd_data.to_excel('./saves/genie_scraping.xls')"
   ]
  },
  {
   "cell_type": "code",
   "execution_count": null,
   "id": "73a741b2",
   "metadata": {},
   "outputs": [],
   "source": []
  }
 ],
 "metadata": {
  "kernelspec": {
   "display_name": "Python 3",
   "language": "python",
   "name": "python3"
  },
  "language_info": {
   "codemirror_mode": {
    "name": "ipython",
    "version": 3
   },
   "file_extension": ".py",
   "mimetype": "text/x-python",
   "name": "python",
   "nbconvert_exporter": "python",
   "pygments_lexer": "ipython3",
   "version": "3.6.4"
  }
 },
 "nbformat": 4,
 "nbformat_minor": 5
}
